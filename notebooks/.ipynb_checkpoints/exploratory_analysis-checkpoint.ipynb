{
 "cells": [
  {
   "cell_type": "markdown",
   "id": "40c14fb6",
   "metadata": {},
   "source": [
    "# Exploratory Analysis – Password Strength Detector"
   ]
  },
  {
   "cell_type": "markdown",
   "id": "797966f3",
   "metadata": {},
   "source": [
    "We aim to detect weak passwords using a machine learning model trained on labeled real-world data.\n",
    "\n",
    "Typical password strength checkers rely on length and character diversity. Our goal is to catch weak patterns (like \"Hol@123!\") that technically pass those checks but are still insecure."
   ]
  },
  {
   "cell_type": "code",
   "id": "70304c9e",
   "metadata": {
    "ExecuteTime": {
     "end_time": "2025-07-11T19:43:04.719129Z",
     "start_time": "2025-07-11T19:43:03.848380Z"
    }
   },
   "source": [
    "import pandas as pd\n",
    "\n",
    "# Load sample (e.g. 100k per class for speed)\n",
    "N = 100_000\n",
    "\n",
    "with open(\"../data/rock_you_filtered.txt\", encoding=\"utf-8\") as f:\n",
    "    weak = [line.strip() for i, line in enumerate(f) if i < N]\n",
    "\n",
    "with open(\"../data/strong_passwords.txt\", encoding=\"utf-8\") as f:\n",
    "    strong = [line.strip() for i, line in enumerate(f) if i < N]\n",
    "\n",
    "df = pd.DataFrame(weak + strong, columns=[\"password\"])\n",
    "df[\"label\"] = [0] * len(weak) + [1] * len(strong)\n",
    "df.sample(5)\n"
   ],
   "outputs": [
    {
     "data": {
      "text/plain": [
       "                  password  label\n",
       "66647         090715200315      0\n",
       "153923  _gdSV($Adp1l$t#%zf      1\n",
       "12868             maikolo!      0\n",
       "20319         *yllig106838      0\n",
       "11917           terrasuck!      0"
      ],
      "text/html": [
       "<div>\n",
       "<style scoped>\n",
       "    .dataframe tbody tr th:only-of-type {\n",
       "        vertical-align: middle;\n",
       "    }\n",
       "\n",
       "    .dataframe tbody tr th {\n",
       "        vertical-align: top;\n",
       "    }\n",
       "\n",
       "    .dataframe thead th {\n",
       "        text-align: right;\n",
       "    }\n",
       "</style>\n",
       "<table border=\"1\" class=\"dataframe\">\n",
       "  <thead>\n",
       "    <tr style=\"text-align: right;\">\n",
       "      <th></th>\n",
       "      <th>password</th>\n",
       "      <th>label</th>\n",
       "    </tr>\n",
       "  </thead>\n",
       "  <tbody>\n",
       "    <tr>\n",
       "      <th>66647</th>\n",
       "      <td>090715200315</td>\n",
       "      <td>0</td>\n",
       "    </tr>\n",
       "    <tr>\n",
       "      <th>153923</th>\n",
       "      <td>_gdSV($Adp1l$t#%zf</td>\n",
       "      <td>1</td>\n",
       "    </tr>\n",
       "    <tr>\n",
       "      <th>12868</th>\n",
       "      <td>maikolo!</td>\n",
       "      <td>0</td>\n",
       "    </tr>\n",
       "    <tr>\n",
       "      <th>20319</th>\n",
       "      <td>*yllig106838</td>\n",
       "      <td>0</td>\n",
       "    </tr>\n",
       "    <tr>\n",
       "      <th>11917</th>\n",
       "      <td>terrasuck!</td>\n",
       "      <td>0</td>\n",
       "    </tr>\n",
       "  </tbody>\n",
       "</table>\n",
       "</div>"
      ]
     },
     "execution_count": 1,
     "metadata": {},
     "output_type": "execute_result"
    }
   ],
   "execution_count": 1
  },
  {
   "cell_type": "code",
   "id": "b56393f8",
   "metadata": {
    "ExecuteTime": {
     "end_time": "2025-07-11T19:45:16.578384Z",
     "start_time": "2025-07-11T19:45:16.373739Z"
    }
   },
   "source": [
    "import matplotlib.pyplot as plt\n",
    "\n",
    "df[\"length\"] = df[\"password\"].str.len()\n",
    "df.boxplot(column=\"length\", by=\"label\", grid=False)\n",
    "plt.title(\"Password Length by Class (0=Weak, 1=Strong)\")\n",
    "plt.suptitle(\"\")\n"
   ],
   "outputs": [
    {
     "data": {
      "text/plain": [
       "Text(0.5, 0.98, '')"
      ]
     },
     "execution_count": 4,
     "metadata": {},
     "output_type": "execute_result"
    },
    {
     "data": {
      "text/plain": [
       "<Figure size 640x480 with 1 Axes>"
      ],
      "image/png": "[encoded data removed]"
     },
     "metadata": {},
     "output_type": "display_data"
    }
   ],
   "execution_count": 4
  },
  {
   "cell_type": "code",
   "id": "4d5f0eb7",
   "metadata": {
    "ExecuteTime": {
     "end_time": "2025-07-11T19:45:38.204055Z",
     "start_time": "2025-07-11T19:45:37.698214Z"
    }
   },
   "source": [
    "import math\n",
    "\n",
    "def calc_entropy(pwd):\n",
    "    charset = 0\n",
    "    if any(c.islower() for c in pwd): charset += 26\n",
    "    if any(c.isupper() for c in pwd): charset += 26\n",
    "    if any(c.isdigit() for c in pwd): charset += 10\n",
    "    if any(c in \"!@#$%^&*()-_+=[]{};:'\\\",.<>/?\\\\|\" for c in pwd): charset += 32\n",
    "    if charset == 0: return 0\n",
    "    return round(len(pwd) * math.log2(charset), 2)\n",
    "\n",
    "df[\"entropy\"] = df[\"password\"].apply(calc_entropy)\n",
    "\n",
    "df.groupby(\"label\")[\"entropy\"].describe()\n"
   ],
   "outputs": [
    {
     "data": {
      "text/plain": [
       "          count        mean        std    min    25%     50%     75%     max\n",
       "label                                                                       \n",
       "0      100000.0   47.393712  12.046555  26.58  41.36   46.53   51.70  104.87\n",
       "1      100000.0  104.223542  17.264494  62.04  91.76  104.87  117.98  131.09"
      ],
      "text/html": [
       "<div>\n",
       "<style scoped>\n",
       "    .dataframe tbody tr th:only-of-type {\n",
       "        vertical-align: middle;\n",
       "    }\n",
       "\n",
       "    .dataframe tbody tr th {\n",
       "        vertical-align: top;\n",
       "    }\n",
       "\n",
       "    .dataframe thead th {\n",
       "        text-align: right;\n",
       "    }\n",
       "</style>\n",
       "<table border=\"1\" class=\"dataframe\">\n",
       "  <thead>\n",
       "    <tr style=\"text-align: right;\">\n",
       "      <th></th>\n",
       "      <th>count</th>\n",
       "      <th>mean</th>\n",
       "      <th>std</th>\n",
       "      <th>min</th>\n",
       "      <th>25%</th>\n",
       "      <th>50%</th>\n",
       "      <th>75%</th>\n",
       "      <th>max</th>\n",
       "    </tr>\n",
       "    <tr>\n",
       "      <th>label</th>\n",
       "      <th></th>\n",
       "      <th></th>\n",
       "      <th></th>\n",
       "      <th></th>\n",
       "      <th></th>\n",
       "      <th></th>\n",
       "      <th></th>\n",
       "      <th></th>\n",
       "    </tr>\n",
       "  </thead>\n",
       "  <tbody>\n",
       "    <tr>\n",
       "      <th>0</th>\n",
       "      <td>100000.0</td>\n",
       "      <td>47.393712</td>\n",
       "      <td>12.046555</td>\n",
       "      <td>26.58</td>\n",
       "      <td>41.36</td>\n",
       "      <td>46.53</td>\n",
       "      <td>51.70</td>\n",
       "      <td>104.87</td>\n",
       "    </tr>\n",
       "    <tr>\n",
       "      <th>1</th>\n",
       "      <td>100000.0</td>\n",
       "      <td>104.223542</td>\n",
       "      <td>17.264494</td>\n",
       "      <td>62.04</td>\n",
       "      <td>91.76</td>\n",
       "      <td>104.87</td>\n",
       "      <td>117.98</td>\n",
       "      <td>131.09</td>\n",
       "    </tr>\n",
       "  </tbody>\n",
       "</table>\n",
       "</div>"
      ]
     },
     "execution_count": 5,
     "metadata": {},
     "output_type": "execute_result"
    }
   ],
   "execution_count": 5
  },
  {
   "cell_type": "code",
   "id": "d8df39ae",
   "metadata": {
    "ExecuteTime": {
     "end_time": "2025-07-11T21:00:02.790894Z",
     "start_time": "2025-07-11T21:00:01.691506Z"
    }
   },
   "source": [
    "from sklearn.feature_extraction.text import TfidfVectorizer\n",
    "\n",
    "vectorizer = TfidfVectorizer(analyzer=\"char\", ngram_range=(2, 5), max_features=5000)\n",
    "X = vectorizer.fit_transform(df[\"password\"])\n",
    "X.shape\n",
    "\n",
    "# Show sample TF-IDF vector\n",
    "import pandas as pd\n",
    "pd.DataFrame(X[0].toarray(), columns=vectorizer.get_feature_names_out()).T.sort_values(by=0, ascending=False).head(10)\n"
   ],
   "outputs": [
    {
     "ename": "ValueError",
     "evalue": "All ufuncs must have type `numpy.ufunc`. Received (<ufunc 'sph_legendre_p'>, <ufunc 'sph_legendre_p'>, <ufunc 'sph_legendre_p'>)",
     "output_type": "error",
     "traceback": [
      "\u001B[31m---------------------------------------------------------------------------\u001B[39m",
      "\u001B[31mValueError\u001B[39m                                Traceback (most recent call last)",
      "\u001B[36mCell\u001B[39m\u001B[36m \u001B[39m\u001B[32mIn[9]\u001B[39m\u001B[32m, line 1\u001B[39m\n\u001B[32m----> \u001B[39m\u001B[32m1\u001B[39m \u001B[38;5;28;01mfrom\u001B[39;00m \u001B[34;01msklearn\u001B[39;00m\u001B[34;01m.\u001B[39;00m\u001B[34;01mfeature_extraction\u001B[39;00m\u001B[34;01m.\u001B[39;00m\u001B[34;01mtext\u001B[39;00m \u001B[38;5;28;01mimport\u001B[39;00m TfidfVectorizer\n\u001B[32m      3\u001B[39m vectorizer = TfidfVectorizer(analyzer=\u001B[33m\"\u001B[39m\u001B[33mchar\u001B[39m\u001B[33m\"\u001B[39m, ngram_range=(\u001B[32m2\u001B[39m, \u001B[32m5\u001B[39m), max_features=\u001B[32m5000\u001B[39m)\n\u001B[32m      4\u001B[39m X = vectorizer.fit_transform(df[\u001B[33m\"\u001B[39m\u001B[33mpassword\u001B[39m\u001B[33m\"\u001B[39m])\n",
      "\u001B[36mFile \u001B[39m\u001B[32m~/miniconda3/lib/python3.12/site-packages/sklearn/__init__.py:96\u001B[39m\n\u001B[32m     85\u001B[39m \u001B[38;5;66;03m# `_distributor_init` allows distributors to run custom init code.\u001B[39;00m\n\u001B[32m     86\u001B[39m \u001B[38;5;66;03m# For instance, for the Windows wheel, this is used to pre-load the\u001B[39;00m\n\u001B[32m     87\u001B[39m \u001B[38;5;66;03m# vcomp shared library runtime for OpenMP embedded in the sklearn/.libs\u001B[39;00m\n\u001B[32m   (...)\u001B[39m\u001B[32m     90\u001B[39m \u001B[38;5;66;03m# later is linked to the OpenMP runtime to make it possible to introspect\u001B[39;00m\n\u001B[32m     91\u001B[39m \u001B[38;5;66;03m# it and importing it first would fail if the OpenMP dll cannot be found.\u001B[39;00m\n\u001B[32m     92\u001B[39m \u001B[38;5;28;01mfrom\u001B[39;00m \u001B[34;01m.\u001B[39;00m \u001B[38;5;28;01mimport\u001B[39;00m (\n\u001B[32m     93\u001B[39m     __check_build,  \u001B[38;5;66;03m# noqa: F401\u001B[39;00m\n\u001B[32m     94\u001B[39m     _distributor_init,  \u001B[38;5;66;03m# noqa: F401\u001B[39;00m\n\u001B[32m     95\u001B[39m )\n\u001B[32m---> \u001B[39m\u001B[32m96\u001B[39m \u001B[38;5;28;01mfrom\u001B[39;00m \u001B[34;01m.\u001B[39;00m\u001B[34;01mbase\u001B[39;00m \u001B[38;5;28;01mimport\u001B[39;00m clone\n\u001B[32m     97\u001B[39m \u001B[38;5;28;01mfrom\u001B[39;00m \u001B[34;01m.\u001B[39;00m\u001B[34;01mutils\u001B[39;00m\u001B[34;01m.\u001B[39;00m\u001B[34;01m_show_versions\u001B[39;00m \u001B[38;5;28;01mimport\u001B[39;00m show_versions\n\u001B[32m     99\u001B[39m __all__ = [\n\u001B[32m    100\u001B[39m     \u001B[33m\"\u001B[39m\u001B[33mcalibration\u001B[39m\u001B[33m\"\u001B[39m,\n\u001B[32m    101\u001B[39m     \u001B[33m\"\u001B[39m\u001B[33mcluster\u001B[39m\u001B[33m\"\u001B[39m,\n\u001B[32m   (...)\u001B[39m\u001B[32m    142\u001B[39m     \u001B[33m\"\u001B[39m\u001B[33mshow_versions\u001B[39m\u001B[33m\"\u001B[39m,\n\u001B[32m    143\u001B[39m ]\n",
      "\u001B[36mFile \u001B[39m\u001B[32m~/miniconda3/lib/python3.12/site-packages/sklearn/base.py:19\u001B[39m\n\u001B[32m     17\u001B[39m \u001B[38;5;28;01mfrom\u001B[39;00m \u001B[34;01m.\u001B[39;00m\u001B[34;01m_config\u001B[39;00m \u001B[38;5;28;01mimport\u001B[39;00m config_context, get_config\n\u001B[32m     18\u001B[39m \u001B[38;5;28;01mfrom\u001B[39;00m \u001B[34;01m.\u001B[39;00m\u001B[34;01mexceptions\u001B[39;00m \u001B[38;5;28;01mimport\u001B[39;00m InconsistentVersionWarning\n\u001B[32m---> \u001B[39m\u001B[32m19\u001B[39m \u001B[38;5;28;01mfrom\u001B[39;00m \u001B[34;01m.\u001B[39;00m\u001B[34;01mutils\u001B[39;00m\u001B[34;01m.\u001B[39;00m\u001B[34;01m_estimator_html_repr\u001B[39;00m \u001B[38;5;28;01mimport\u001B[39;00m _HTMLDocumentationLinkMixin, estimator_html_repr\n\u001B[32m     20\u001B[39m \u001B[38;5;28;01mfrom\u001B[39;00m \u001B[34;01m.\u001B[39;00m\u001B[34;01mutils\u001B[39;00m\u001B[34;01m.\u001B[39;00m\u001B[34;01m_metadata_requests\u001B[39;00m \u001B[38;5;28;01mimport\u001B[39;00m _MetadataRequester, _routing_enabled\n\u001B[32m     21\u001B[39m \u001B[38;5;28;01mfrom\u001B[39;00m \u001B[34;01m.\u001B[39;00m\u001B[34;01mutils\u001B[39;00m\u001B[34;01m.\u001B[39;00m\u001B[34;01m_param_validation\u001B[39;00m \u001B[38;5;28;01mimport\u001B[39;00m validate_parameter_constraints\n",
      "\u001B[36mFile \u001B[39m\u001B[32m~/miniconda3/lib/python3.12/site-packages/sklearn/utils/__init__.py:13\u001B[39m\n\u001B[32m     11\u001B[39m \u001B[38;5;28;01mfrom\u001B[39;00m \u001B[34;01m.\u001B[39;00m \u001B[38;5;28;01mimport\u001B[39;00m _joblib, metadata_routing\n\u001B[32m     12\u001B[39m \u001B[38;5;28;01mfrom\u001B[39;00m \u001B[34;01m.\u001B[39;00m\u001B[34;01m_bunch\u001B[39;00m \u001B[38;5;28;01mimport\u001B[39;00m Bunch\n\u001B[32m---> \u001B[39m\u001B[32m13\u001B[39m \u001B[38;5;28;01mfrom\u001B[39;00m \u001B[34;01m.\u001B[39;00m\u001B[34;01m_chunking\u001B[39;00m \u001B[38;5;28;01mimport\u001B[39;00m gen_batches, gen_even_slices\n\u001B[32m     14\u001B[39m \u001B[38;5;28;01mfrom\u001B[39;00m \u001B[34;01m.\u001B[39;00m\u001B[34;01m_estimator_html_repr\u001B[39;00m \u001B[38;5;28;01mimport\u001B[39;00m estimator_html_repr\n\u001B[32m     16\u001B[39m \u001B[38;5;66;03m# Make _safe_indexing importable from here for backward compat as this particular\u001B[39;00m\n\u001B[32m     17\u001B[39m \u001B[38;5;66;03m# helper is considered semi-private and typically very useful for third-party\u001B[39;00m\n\u001B[32m     18\u001B[39m \u001B[38;5;66;03m# libraries that want to comply with scikit-learn's estimator API. In particular,\u001B[39;00m\n\u001B[32m     19\u001B[39m \u001B[38;5;66;03m# _safe_indexing was included in our public API documentation despite the leading\u001B[39;00m\n\u001B[32m     20\u001B[39m \u001B[38;5;66;03m# `_` in its name.\u001B[39;00m\n",
      "\u001B[36mFile \u001B[39m\u001B[32m~/miniconda3/lib/python3.12/site-packages/sklearn/utils/_chunking.py:8\u001B[39m\n\u001B[32m      5\u001B[39m \u001B[38;5;28;01mimport\u001B[39;00m \u001B[34;01mnumpy\u001B[39;00m \u001B[38;5;28;01mas\u001B[39;00m \u001B[34;01mnp\u001B[39;00m\n\u001B[32m      7\u001B[39m \u001B[38;5;28;01mfrom\u001B[39;00m \u001B[34;01m.\u001B[39;00m\u001B[34;01m.\u001B[39;00m\u001B[34;01m_config\u001B[39;00m \u001B[38;5;28;01mimport\u001B[39;00m get_config\n\u001B[32m----> \u001B[39m\u001B[32m8\u001B[39m \u001B[38;5;28;01mfrom\u001B[39;00m \u001B[34;01m.\u001B[39;00m\u001B[34;01m_param_validation\u001B[39;00m \u001B[38;5;28;01mimport\u001B[39;00m Interval, validate_params\n\u001B[32m     11\u001B[39m \u001B[38;5;28;01mdef\u001B[39;00m \u001B[34mchunk_generator\u001B[39m(gen, chunksize):\n\u001B[32m     12\u001B[39m \u001B[38;5;250m    \u001B[39m\u001B[33;03m\"\"\"Chunk generator, ``gen`` into lists of length ``chunksize``. The last\u001B[39;00m\n\u001B[32m     13\u001B[39m \u001B[33;03m    chunk may have a length less than ``chunksize``.\"\"\"\u001B[39;00m\n",
      "\u001B[36mFile \u001B[39m\u001B[32m~/miniconda3/lib/python3.12/site-packages/sklearn/utils/_param_validation.py:14\u001B[39m\n\u001B[32m     11\u001B[39m \u001B[38;5;28;01mfrom\u001B[39;00m \u001B[34;01mscipy\u001B[39;00m\u001B[34;01m.\u001B[39;00m\u001B[34;01msparse\u001B[39;00m \u001B[38;5;28;01mimport\u001B[39;00m csr_matrix, issparse\n\u001B[32m     13\u001B[39m \u001B[38;5;28;01mfrom\u001B[39;00m \u001B[34;01m.\u001B[39;00m\u001B[34;01m.\u001B[39;00m\u001B[34;01m_config\u001B[39;00m \u001B[38;5;28;01mimport\u001B[39;00m config_context, get_config\n\u001B[32m---> \u001B[39m\u001B[32m14\u001B[39m \u001B[38;5;28;01mfrom\u001B[39;00m \u001B[34;01m.\u001B[39;00m\u001B[34;01mvalidation\u001B[39;00m \u001B[38;5;28;01mimport\u001B[39;00m _is_arraylike_not_scalar\n\u001B[32m     17\u001B[39m \u001B[38;5;28;01mclass\u001B[39;00m \u001B[34;01mInvalidParameterError\u001B[39;00m(\u001B[38;5;167;01mValueError\u001B[39;00m, \u001B[38;5;167;01mTypeError\u001B[39;00m):\n\u001B[32m     18\u001B[39m \u001B[38;5;250m    \u001B[39m\u001B[33;03m\"\"\"Custom exception to be raised when the parameter of a class/method/function\u001B[39;00m\n\u001B[32m     19\u001B[39m \u001B[33;03m    does not have a valid type or value.\u001B[39;00m\n\u001B[32m     20\u001B[39m \u001B[33;03m    \"\"\"\u001B[39;00m\n",
      "\u001B[36mFile \u001B[39m\u001B[32m~/miniconda3/lib/python3.12/site-packages/sklearn/utils/validation.py:29\u001B[39m\n\u001B[32m     27\u001B[39m \u001B[38;5;28;01mfrom\u001B[39;00m \u001B[34;01m.\u001B[39;00m\u001B[34;01m.\u001B[39;00m \u001B[38;5;28;01mimport\u001B[39;00m get_config \u001B[38;5;28;01mas\u001B[39;00m _get_config\n\u001B[32m     28\u001B[39m \u001B[38;5;28;01mfrom\u001B[39;00m \u001B[34;01m.\u001B[39;00m\u001B[34;01m.\u001B[39;00m\u001B[34;01mexceptions\u001B[39;00m \u001B[38;5;28;01mimport\u001B[39;00m DataConversionWarning, NotFittedError, PositiveSpectrumWarning\n\u001B[32m---> \u001B[39m\u001B[32m29\u001B[39m \u001B[38;5;28;01mfrom\u001B[39;00m \u001B[34;01m.\u001B[39;00m\u001B[34;01m.\u001B[39;00m\u001B[34;01mutils\u001B[39;00m\u001B[34;01m.\u001B[39;00m\u001B[34;01m_array_api\u001B[39;00m \u001B[38;5;28;01mimport\u001B[39;00m _asarray_with_order, _is_numpy_namespace, get_namespace\n\u001B[32m     30\u001B[39m \u001B[38;5;28;01mfrom\u001B[39;00m \u001B[34;01m.\u001B[39;00m\u001B[34;01m.\u001B[39;00m\u001B[34;01mutils\u001B[39;00m\u001B[34;01m.\u001B[39;00m\u001B[34;01mfixes\u001B[39;00m \u001B[38;5;28;01mimport\u001B[39;00m ComplexWarning, _preserve_dia_indices_dtype\n\u001B[32m     31\u001B[39m \u001B[38;5;28;01mfrom\u001B[39;00m \u001B[34;01m.\u001B[39;00m\u001B[34;01m_isfinite\u001B[39;00m \u001B[38;5;28;01mimport\u001B[39;00m FiniteStatus, cy_isfinite\n",
      "\u001B[36mFile \u001B[39m\u001B[32m~/miniconda3/lib/python3.12/site-packages/sklearn/utils/_array_api.py:8\u001B[39m\n\u001B[32m      5\u001B[39m \u001B[38;5;28;01mfrom\u001B[39;00m \u001B[34;01mfunctools\u001B[39;00m \u001B[38;5;28;01mimport\u001B[39;00m wraps\n\u001B[32m      7\u001B[39m \u001B[38;5;28;01mimport\u001B[39;00m \u001B[34;01mnumpy\u001B[39;00m\n\u001B[32m----> \u001B[39m\u001B[32m8\u001B[39m \u001B[38;5;28;01mimport\u001B[39;00m \u001B[34;01mscipy\u001B[39;00m\u001B[34;01m.\u001B[39;00m\u001B[34;01mspecial\u001B[39;00m \u001B[38;5;28;01mas\u001B[39;00m \u001B[34;01mspecial\u001B[39;00m\n\u001B[32m     10\u001B[39m \u001B[38;5;28;01mfrom\u001B[39;00m \u001B[34;01m.\u001B[39;00m\u001B[34;01m.\u001B[39;00m\u001B[34;01m_config\u001B[39;00m \u001B[38;5;28;01mimport\u001B[39;00m get_config\n\u001B[32m     11\u001B[39m \u001B[38;5;28;01mfrom\u001B[39;00m \u001B[34;01m.\u001B[39;00m\u001B[34;01mfixes\u001B[39;00m \u001B[38;5;28;01mimport\u001B[39;00m parse_version\n",
      "\u001B[36mFile \u001B[39m\u001B[32m~/miniconda3/lib/python3.12/site-packages/scipy/special/__init__.py:826\u001B[39m\n\u001B[32m    820\u001B[39m \u001B[38;5;66;03m# Replace some function definitions from _ufuncs to add Array API support\u001B[39;00m\n\u001B[32m    821\u001B[39m \u001B[38;5;28;01mfrom\u001B[39;00m \u001B[34;01m.\u001B[39;00m\u001B[34;01m_support_alternative_backends\u001B[39;00m \u001B[38;5;28;01mimport\u001B[39;00m (\n\u001B[32m    822\u001B[39m     log_ndtr, ndtr, ndtri, erf, erfc, i0, i0e, i1, i1e, gammaln,\n\u001B[32m    823\u001B[39m     gammainc, gammaincc, logit, expit, entr, rel_entr, xlogy,\n\u001B[32m    824\u001B[39m     chdtr, chdtrc, betainc, betaincc, stdtr)\n\u001B[32m--> \u001B[39m\u001B[32m826\u001B[39m \u001B[38;5;28;01mfrom\u001B[39;00m \u001B[34;01m.\u001B[39;00m \u001B[38;5;28;01mimport\u001B[39;00m _basic\n\u001B[32m    827\u001B[39m \u001B[38;5;28;01mfrom\u001B[39;00m \u001B[34;01m.\u001B[39;00m\u001B[34;01m_basic\u001B[39;00m \u001B[38;5;28;01mimport\u001B[39;00m *\n\u001B[32m    829\u001B[39m \u001B[38;5;28;01mfrom\u001B[39;00m \u001B[34;01m.\u001B[39;00m\u001B[34;01m_logsumexp\u001B[39;00m \u001B[38;5;28;01mimport\u001B[39;00m logsumexp, softmax, log_softmax\n",
      "\u001B[36mFile \u001B[39m\u001B[32m~/miniconda3/lib/python3.12/site-packages/scipy/special/_basic.py:22\u001B[39m\n\u001B[32m     20\u001B[39m \u001B[38;5;28;01mfrom\u001B[39;00m \u001B[34;01m.\u001B[39;00m \u001B[38;5;28;01mimport\u001B[39;00m _specfun\n\u001B[32m     21\u001B[39m \u001B[38;5;28;01mfrom\u001B[39;00m \u001B[34;01m.\u001B[39;00m\u001B[34;01m_comb\u001B[39;00m \u001B[38;5;28;01mimport\u001B[39;00m _comb_int\n\u001B[32m---> \u001B[39m\u001B[32m22\u001B[39m \u001B[38;5;28;01mfrom\u001B[39;00m \u001B[34;01m.\u001B[39;00m\u001B[34;01m_multiufuncs\u001B[39;00m \u001B[38;5;28;01mimport\u001B[39;00m (assoc_legendre_p_all,\n\u001B[32m     23\u001B[39m                            legendre_p_all)\n\u001B[32m     24\u001B[39m \u001B[38;5;28;01mfrom\u001B[39;00m \u001B[34;01mscipy\u001B[39;00m\u001B[34;01m.\u001B[39;00m\u001B[34;01m_lib\u001B[39;00m\u001B[34;01m.\u001B[39;00m\u001B[34;01mdeprecation\u001B[39;00m \u001B[38;5;28;01mimport\u001B[39;00m _deprecated\n\u001B[32m     27\u001B[39m __all__ = [\n\u001B[32m     28\u001B[39m     \u001B[33m'\u001B[39m\u001B[33mai_zeros\u001B[39m\u001B[33m'\u001B[39m,\n\u001B[32m     29\u001B[39m     \u001B[33m'\u001B[39m\u001B[33massoc_laguerre\u001B[39m\u001B[33m'\u001B[39m,\n\u001B[32m   (...)\u001B[39m\u001B[32m     87\u001B[39m     \u001B[33m'\u001B[39m\u001B[33mzeta\u001B[39m\u001B[33m'\u001B[39m\n\u001B[32m     88\u001B[39m ]\n",
      "\u001B[36mFile \u001B[39m\u001B[32m~/miniconda3/lib/python3.12/site-packages/scipy/special/_multiufuncs.py:142\u001B[39m\n\u001B[32m    137\u001B[39m             out = \u001B[38;5;28mself\u001B[39m._finalize_out(out)\n\u001B[32m    139\u001B[39m         \u001B[38;5;28;01mreturn\u001B[39;00m out\n\u001B[32m--> \u001B[39m\u001B[32m142\u001B[39m sph_legendre_p = \u001B[43mMultiUFunc\u001B[49m\u001B[43m(\u001B[49m\n\u001B[32m    143\u001B[39m \u001B[43m    \u001B[49m\u001B[43msph_legendre_p\u001B[49m\u001B[43m,\u001B[49m\n\u001B[32m    144\u001B[39m \u001B[38;5;250;43m    \u001B[39;49m\u001B[33;43mr\u001B[39;49m\u001B[33;43;03m\"\"\"sph_legendre_p(n, m, theta, *, diff_n=0)\u001B[39;49;00m\n\u001B[32m    145\u001B[39m \n\u001B[32m    146\u001B[39m \u001B[33;43;03m    Spherical Legendre polynomial of the first kind.\u001B[39;49;00m\n\u001B[32m    147\u001B[39m \n\u001B[32m    148\u001B[39m \u001B[33;43;03m    Parameters\u001B[39;49;00m\n\u001B[32m    149\u001B[39m \u001B[33;43;03m    ----------\u001B[39;49;00m\n\u001B[32m    150\u001B[39m \u001B[33;43;03m    n : ArrayLike[int]\u001B[39;49;00m\n\u001B[32m    151\u001B[39m \u001B[33;43;03m        Degree of the spherical Legendre polynomial. Must have ``n >= 0``.\u001B[39;49;00m\n\u001B[32m    152\u001B[39m \u001B[33;43;03m    m : ArrayLike[int]\u001B[39;49;00m\n\u001B[32m    153\u001B[39m \u001B[33;43;03m        Order of the spherical Legendre polynomial.\u001B[39;49;00m\n\u001B[32m    154\u001B[39m \u001B[33;43;03m    theta : ArrayLike[float]\u001B[39;49;00m\n\u001B[32m    155\u001B[39m \u001B[33;43;03m        Input value.\u001B[39;49;00m\n\u001B[32m    156\u001B[39m \u001B[33;43;03m    diff_n : Optional[int]\u001B[39;49;00m\n\u001B[32m    157\u001B[39m \u001B[33;43;03m        A non-negative integer. Compute and return all derivatives up\u001B[39;49;00m\n\u001B[32m    158\u001B[39m \u001B[33;43;03m        to order ``diff_n``. Default is 0.\u001B[39;49;00m\n\u001B[32m    159\u001B[39m \n\u001B[32m    160\u001B[39m \u001B[33;43;03m    Returns\u001B[39;49;00m\n\u001B[32m    161\u001B[39m \u001B[33;43;03m    -------\u001B[39;49;00m\n\u001B[32m    162\u001B[39m \u001B[33;43;03m    p : ndarray or tuple[ndarray]\u001B[39;49;00m\n\u001B[32m    163\u001B[39m \u001B[33;43;03m        Spherical Legendre polynomial with ``diff_n`` derivatives.\u001B[39;49;00m\n\u001B[32m    164\u001B[39m \n\u001B[32m    165\u001B[39m \u001B[33;43;03m    Notes\u001B[39;49;00m\n\u001B[32m    166\u001B[39m \u001B[33;43;03m    -----\u001B[39;49;00m\n\u001B[32m    167\u001B[39m \u001B[33;43;03m    The spherical counterpart of an (unnormalized) associated Legendre polynomial has\u001B[39;49;00m\n\u001B[32m    168\u001B[39m \u001B[33;43;03m    the additional factor\u001B[39;49;00m\n\u001B[32m    169\u001B[39m \n\u001B[32m    170\u001B[39m \u001B[33;43;03m    .. math::\u001B[39;49;00m\n\u001B[32m    171\u001B[39m \n\u001B[32m    172\u001B[39m \u001B[33;43;03m        \\sqrt{\\frac{(2 n + 1) (n - m)!}{4 \\pi (n + m)!}}\u001B[39;49;00m\n\u001B[32m    173\u001B[39m \n\u001B[32m    174\u001B[39m \u001B[33;43;03m    It is the same as the spherical harmonic :math:`Y_{n}^{m}(\\theta, \\phi)`\u001B[39;49;00m\n\u001B[32m    175\u001B[39m \u001B[33;43;03m    with :math:`\\phi = 0`.\u001B[39;49;00m\n\u001B[32m    176\u001B[39m \u001B[33;43;03m    \"\"\"\u001B[39;49;00m\u001B[43m,\u001B[49m\u001B[43m \u001B[49m\u001B[43mdiff_n\u001B[49m\u001B[43m=\u001B[49m\u001B[32;43m0\u001B[39;49m\n\u001B[32m    177\u001B[39m \u001B[43m)\u001B[49m\n\u001B[32m    180\u001B[39m \u001B[38;5;129m@sph_legendre_p\u001B[39m._override_key\n\u001B[32m    181\u001B[39m \u001B[38;5;28;01mdef\u001B[39;00m \u001B[34m_\u001B[39m(diff_n):\n\u001B[32m    182\u001B[39m     diff_n = _nonneg_int_or_fail(diff_n, \u001B[33m\"\u001B[39m\u001B[33mdiff_n\u001B[39m\u001B[33m\"\u001B[39m, strict=\u001B[38;5;28;01mFalse\u001B[39;00m)\n",
      "\u001B[36mFile \u001B[39m\u001B[32m~/miniconda3/lib/python3.12/site-packages/scipy/special/_multiufuncs.py:41\u001B[39m, in \u001B[36mMultiUFunc.__init__\u001B[39m\u001B[34m(self, ufunc_or_ufuncs, doc, force_complex_output, **default_kwargs)\u001B[39m\n\u001B[32m     39\u001B[39m \u001B[38;5;28;01mfor\u001B[39;00m ufunc \u001B[38;5;129;01min\u001B[39;00m ufuncs_iter:\n\u001B[32m     40\u001B[39m     \u001B[38;5;28;01mif\u001B[39;00m \u001B[38;5;129;01mnot\u001B[39;00m \u001B[38;5;28misinstance\u001B[39m(ufunc, np.ufunc):\n\u001B[32m---> \u001B[39m\u001B[32m41\u001B[39m         \u001B[38;5;28;01mraise\u001B[39;00m \u001B[38;5;167;01mValueError\u001B[39;00m(\u001B[33m\"\u001B[39m\u001B[33mAll ufuncs must have type `numpy.ufunc`.\u001B[39m\u001B[33m\"\u001B[39m\n\u001B[32m     42\u001B[39m                          \u001B[33mf\u001B[39m\u001B[33m\"\u001B[39m\u001B[33m Received \u001B[39m\u001B[38;5;132;01m{\u001B[39;00mufunc_or_ufuncs\u001B[38;5;132;01m}\u001B[39;00m\u001B[33m\"\u001B[39m)\n\u001B[32m     43\u001B[39m     seen_input_types.add(\u001B[38;5;28mfrozenset\u001B[39m(x.split(\u001B[33m\"\u001B[39m\u001B[33m->\u001B[39m\u001B[33m\"\u001B[39m)[\u001B[32m0\u001B[39m] \u001B[38;5;28;01mfor\u001B[39;00m x \u001B[38;5;129;01min\u001B[39;00m ufunc.types))\n\u001B[32m     44\u001B[39m \u001B[38;5;28;01mif\u001B[39;00m \u001B[38;5;28mlen\u001B[39m(seen_input_types) > \u001B[32m1\u001B[39m:\n",
      "\u001B[31mValueError\u001B[39m: All ufuncs must have type `numpy.ufunc`. Received (<ufunc 'sph_legendre_p'>, <ufunc 'sph_legendre_p'>, <ufunc 'sph_legendre_p'>)"
     ]
    }
   ],
   "execution_count": 9
  },
  {
   "cell_type": "code",
   "execution_count": null,
   "id": "a3136baa",
   "metadata": {},
   "outputs": [],
   "source": [
    "\n",
    "from sklearn.preprocessing import StandardScaler\n",
    "import scipy.sparse\n",
    "\n",
    "extra = df[[\"length\", \"entropy\"]].values\n",
    "scaler = StandardScaler()\n",
    "extra_scaled = scaler.fit_transform(extra)\n",
    "\n",
    "X_final = scipy.sparse.hstack([X, extra_scaled])\n",
    "y = df[\"label\"]\n"
   ]
  },
  {
   "cell_type": "code",
   "execution_count": null,
   "id": "f596c1f2",
   "metadata": {},
   "outputs": [],
   "source": [
    "\n",
    "from sklearn.linear_model import LogisticRegression\n",
    "from sklearn.model_selection import train_test_split\n",
    "from sklearn.metrics import classification_report\n",
    "\n",
    "X_train, X_test, y_train, y_test = train_test_split(X_final, y, test_size=0.2, random_state=42)\n",
    "\n",
    "model = LogisticRegression(class_weight=\"balanced\", max_iter=1000)\n",
    "model.fit(X_train, y_train)\n",
    "\n",
    "y_pred = model.predict(X_test)\n",
    "print(classification_report(y_test, y_pred))\n"
   ]
  },
  {
   "cell_type": "code",
   "execution_count": null,
   "id": "3bc41a2f",
   "metadata": {},
   "outputs": [],
   "source": [
    "\n",
    "df_test = df.iloc[y_test.index]\n",
    "df_test[\"pred\"] = y_pred\n",
    "errors = df_test[df_test[\"label\"] != df_test[\"pred\"]]\n",
    "errors.sample(5)\n"
   ]
  },
  {
   "cell_type": "markdown",
   "id": "3874f826",
   "metadata": {},
   "source": [
    "\n",
    "### Conclusions\n",
    "\n",
    "✅ Including entropy and length improved model performance slightly.\n",
    "\n",
    "❌ TF-IDF alone struggles with passwords like \"qwerty123\" or \"abcabc\" — common patterns that aren't always caught by naive rule-based systems.\n",
    "\n",
    "🔁 Next steps:\n",
    "- Try RandomForest or SGDClassifier.\n",
    "- Experiment with character embeddings.\n",
    "- Test the model on out-of-sample leaked passwords.\n"
   ]
  }
 ],
 "metadata": {
  "kernelspec": {
   "name": "python3",
   "language": "python",
   "display_name": "Python 3 (ipykernel)"
  }
 },
 "nbformat": 4,
 "nbformat_minor": 5
}
