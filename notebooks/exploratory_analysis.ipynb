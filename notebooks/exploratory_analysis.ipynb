{
 "cells": [
  {
   "cell_type": "markdown",
   "id": "40c14fb6",
   "metadata": {},
   "source": [
    "# Exploratory Analysis – Password Strength Detector"
   ]
  },
  {
   "cell_type": "markdown",
   "id": "797966f3",
   "metadata": {},
   "source": [
    "We aim to detect weak passwords using a machine learning model trained on labeled real-world data.\n",
    "\n",
    "Typical password strength checkers rely on length and character diversity. Our goal is to catch weak patterns (like \"Hol@123!\") that technically pass those checks but are still insecure."
   ]
  },
  {
   "cell_type": "markdown",
   "id": "c4f1a7c1",
   "metadata": {},
   "source": [
    "## 📥 Data Overview\n",
    "Let's load and examine the structure of the password dataset."
   ]
  },
  {
   "cell_type": "code",
   "id": "70304c9e",
   "metadata": {
    "ExecuteTime": {
     "end_time": "2025-07-11T21:29:39.448123Z",
     "start_time": "2025-07-11T21:29:39.216081Z"
    }
   },
   "source": [
    "import pandas as pd\n",
    "\n",
    "# Load sample (e.g. 100k per class for speed)\n",
    "N = 100_000\n",
    "\n",
    "with open(\"../data/rock_you_filtered.txt\", encoding=\"utf-8\") as f:\n",
    "    weak = [line.strip() for i, line in enumerate(f) if i < N]\n",
    "\n",
    "with open(\"../data/strong_passwords.txt\", encoding=\"utf-8\") as f:\n",
    "    strong = [line.strip() for i, line in enumerate(f) if i < N]\n",
    "\n",
    "df = pd.DataFrame(weak + strong, columns=[\"password\"])\n",
    "df[\"label\"] = [0] * len(weak) + [1] * len(strong)\n"
   ],
   "outputs": [],
   "execution_count": 4
  },
  {
   "metadata": {
    "ExecuteTime": {
     "end_time": "2025-07-11T21:29:25.598652Z",
     "start_time": "2025-07-11T21:29:25.594729Z"
    }
   },
   "cell_type": "code",
   "source": [
    "# Preview the first few rows\n",
    "df.head()"
   ],
   "id": "fdca4a82",
   "outputs": [
    {
     "data": {
      "text/plain": [
       "      password  label\n",
       "0     harrylaw      0\n",
       "1  patsythecat      0\n",
       "2     00foxy00      0\n",
       "3     canedo29      0\n",
       "4   pars011005      0"
      ],
      "text/html": [
       "<div>\n",
       "<style scoped>\n",
       "    .dataframe tbody tr th:only-of-type {\n",
       "        vertical-align: middle;\n",
       "    }\n",
       "\n",
       "    .dataframe tbody tr th {\n",
       "        vertical-align: top;\n",
       "    }\n",
       "\n",
       "    .dataframe thead th {\n",
       "        text-align: right;\n",
       "    }\n",
       "</style>\n",
       "<table border=\"1\" class=\"dataframe\">\n",
       "  <thead>\n",
       "    <tr style=\"text-align: right;\">\n",
       "      <th></th>\n",
       "      <th>password</th>\n",
       "      <th>label</th>\n",
       "    </tr>\n",
       "  </thead>\n",
       "  <tbody>\n",
       "    <tr>\n",
       "      <th>0</th>\n",
       "      <td>harrylaw</td>\n",
       "      <td>0</td>\n",
       "    </tr>\n",
       "    <tr>\n",
       "      <th>1</th>\n",
       "      <td>patsythecat</td>\n",
       "      <td>0</td>\n",
       "    </tr>\n",
       "    <tr>\n",
       "      <th>2</th>\n",
       "      <td>00foxy00</td>\n",
       "      <td>0</td>\n",
       "    </tr>\n",
       "    <tr>\n",
       "      <th>3</th>\n",
       "      <td>canedo29</td>\n",
       "      <td>0</td>\n",
       "    </tr>\n",
       "    <tr>\n",
       "      <th>4</th>\n",
       "      <td>pars011005</td>\n",
       "      <td>0</td>\n",
       "    </tr>\n",
       "  </tbody>\n",
       "</table>\n",
       "</div>"
      ]
     },
     "execution_count": 3,
     "metadata": {},
     "output_type": "execute_result"
    }
   ],
   "execution_count": 3
  },
  {
   "metadata": {
    "ExecuteTime": {
     "end_time": "2025-07-11T21:29:53.083180Z",
     "start_time": "2025-07-11T21:29:53.056008Z"
    }
   },
   "cell_type": "code",
   "source": [
    "# Basic info about the DataFrame\n",
    "df.info()"
   ],
   "id": "da6f3a07",
   "outputs": [
    {
     "name": "stdout",
     "output_type": "stream",
     "text": [
      "<class 'pandas.core.frame.DataFrame'>\n",
      "RangeIndex: 200000 entries, 0 to 199999\n",
      "Data columns (total 2 columns):\n",
      " #   Column    Non-Null Count   Dtype \n",
      "---  ------    --------------   ----- \n",
      " 0   password  200000 non-null  object\n",
      " 1   label     200000 non-null  int64 \n",
      "dtypes: int64(1), object(1)\n",
      "memory usage: 3.1+ MB\n"
     ]
    }
   ],
   "execution_count": 5
  },
  {
   "metadata": {
    "ExecuteTime": {
     "end_time": "2025-07-11T21:30:09.706920Z",
     "start_time": "2025-07-11T21:30:09.597474Z"
    }
   },
   "cell_type": "code",
   "source": [
    "# Summary statistics\n",
    "df.describe(include='all')"
   ],
   "id": "29bd0032",
   "outputs": [
    {
     "data": {
      "text/plain": [
       "        password          label\n",
       "count     200000  200000.000000\n",
       "unique    200000            NaN\n",
       "top     harrylaw            NaN\n",
       "freq           1            NaN\n",
       "mean         NaN       0.500000\n",
       "std          NaN       0.500001\n",
       "min          NaN       0.000000\n",
       "25%          NaN       0.000000\n",
       "50%          NaN       0.500000\n",
       "75%          NaN       1.000000\n",
       "max          NaN       1.000000"
      ],
      "text/html": [
       "<div>\n",
       "<style scoped>\n",
       "    .dataframe tbody tr th:only-of-type {\n",
       "        vertical-align: middle;\n",
       "    }\n",
       "\n",
       "    .dataframe tbody tr th {\n",
       "        vertical-align: top;\n",
       "    }\n",
       "\n",
       "    .dataframe thead th {\n",
       "        text-align: right;\n",
       "    }\n",
       "</style>\n",
       "<table border=\"1\" class=\"dataframe\">\n",
       "  <thead>\n",
       "    <tr style=\"text-align: right;\">\n",
       "      <th></th>\n",
       "      <th>password</th>\n",
       "      <th>label</th>\n",
       "    </tr>\n",
       "  </thead>\n",
       "  <tbody>\n",
       "    <tr>\n",
       "      <th>count</th>\n",
       "      <td>200000</td>\n",
       "      <td>200000.000000</td>\n",
       "    </tr>\n",
       "    <tr>\n",
       "      <th>unique</th>\n",
       "      <td>200000</td>\n",
       "      <td>NaN</td>\n",
       "    </tr>\n",
       "    <tr>\n",
       "      <th>top</th>\n",
       "      <td>harrylaw</td>\n",
       "      <td>NaN</td>\n",
       "    </tr>\n",
       "    <tr>\n",
       "      <th>freq</th>\n",
       "      <td>1</td>\n",
       "      <td>NaN</td>\n",
       "    </tr>\n",
       "    <tr>\n",
       "      <th>mean</th>\n",
       "      <td>NaN</td>\n",
       "      <td>0.500000</td>\n",
       "    </tr>\n",
       "    <tr>\n",
       "      <th>std</th>\n",
       "      <td>NaN</td>\n",
       "      <td>0.500001</td>\n",
       "    </tr>\n",
       "    <tr>\n",
       "      <th>min</th>\n",
       "      <td>NaN</td>\n",
       "      <td>0.000000</td>\n",
       "    </tr>\n",
       "    <tr>\n",
       "      <th>25%</th>\n",
       "      <td>NaN</td>\n",
       "      <td>0.000000</td>\n",
       "    </tr>\n",
       "    <tr>\n",
       "      <th>50%</th>\n",
       "      <td>NaN</td>\n",
       "      <td>0.500000</td>\n",
       "    </tr>\n",
       "    <tr>\n",
       "      <th>75%</th>\n",
       "      <td>NaN</td>\n",
       "      <td>1.000000</td>\n",
       "    </tr>\n",
       "    <tr>\n",
       "      <th>max</th>\n",
       "      <td>NaN</td>\n",
       "      <td>1.000000</td>\n",
       "    </tr>\n",
       "  </tbody>\n",
       "</table>\n",
       "</div>"
      ]
     },
     "execution_count": 6,
     "metadata": {},
     "output_type": "execute_result"
    }
   ],
   "execution_count": 6
  },
  {
   "metadata": {
    "ExecuteTime": {
     "end_time": "2025-07-11T21:32:17.096851Z",
     "start_time": "2025-07-11T21:32:16.158784Z"
    }
   },
   "cell_type": "code",
   "source": [
    "# Class distribution (label counts)\n",
    "import matplotlib.pyplot as plt\n",
    "import seaborn as sns\n",
    "sns.countplot(data=df, x='label')\n",
    "plt.title('Password Strength Distribution')\n",
    "plt.xlabel('Label')\n",
    "plt.ylabel('Count')\n",
    "plt.show()"
   ],
   "id": "b61f95fb",
   "outputs": [
    {
     "data": {
      "text/plain": [
       "<Figure size 640x480 with 1 Axes>"
      ],
      "image/png": "[encoded data removed]"
     },
     "metadata": {},
     "output_type": "display_data"
    }
   ],
   "execution_count": 7
  },
  {
   "cell_type": "code",
   "id": "b56393f8",
   "metadata": {
    "ExecuteTime": {
     "end_time": "2025-07-11T21:32:23.141634Z",
     "start_time": "2025-07-11T21:32:22.879417Z"
    }
   },
   "source": [
    "import matplotlib.pyplot as plt\n",
    "\n",
    "df[\"length\"] = df[\"password\"].str.len()\n",
    "df.boxplot(column=\"length\", by=\"label\", grid=False)\n",
    "plt.title(\"Password Length by Class (0=Weak, 1=Strong)\")\n",
    "plt.suptitle(\"\")\n"
   ],
   "outputs": [
    {
     "data": {
      "text/plain": [
       "Text(0.5, 0.98, '')"
      ]
     },
     "execution_count": 8,
     "metadata": {},
     "output_type": "execute_result"
    },
    {
     "data": {
      "text/plain": [
       "<Figure size 640x480 with 1 Axes>"
      ],
      "image/png": "[encoded data removed]"
     },
     "metadata": {},
     "output_type": "display_data"
    }
   ],
   "execution_count": 8
  },
  {
   "cell_type": "code",
   "id": "4d5f0eb7",
   "metadata": {
    "ExecuteTime": {
     "end_time": "2025-07-11T21:32:42.438934Z",
     "start_time": "2025-07-11T21:32:42.038620Z"
    }
   },
   "source": [
    "import math\n",
    "\n",
    "def calc_entropy(pwd):\n",
    "    charset = 0\n",
    "    if any(c.islower() for c in pwd): charset += 26\n",
    "    if any(c.isupper() for c in pwd): charset += 26\n",
    "    if any(c.isdigit() for c in pwd): charset += 10\n",
    "    if any(c in \"!@#$%^&*()-_+=[]{};:'\\\",.<>/?\\\\|\" for c in pwd): charset += 32\n",
    "    if charset == 0: return 0\n",
    "    return round(len(pwd) * math.log2(charset), 2)\n",
    "\n",
    "df[\"entropy\"] = df[\"password\"].apply(calc_entropy)\n",
    "\n",
    "df.groupby(\"label\")[\"entropy\"].describe()\n"
   ],
   "outputs": [
    {
     "data": {
      "text/plain": [
       "          count        mean        std    min    25%     50%     75%     max\n",
       "label                                                                       \n",
       "0      100000.0   47.393712  12.046555  26.58  41.36   46.53   51.70  104.87\n",
       "1      100000.0  104.223542  17.264494  62.04  91.76  104.87  117.98  131.09"
      ],
      "text/html": [
       "<div>\n",
       "<style scoped>\n",
       "    .dataframe tbody tr th:only-of-type {\n",
       "        vertical-align: middle;\n",
       "    }\n",
       "\n",
       "    .dataframe tbody tr th {\n",
       "        vertical-align: top;\n",
       "    }\n",
       "\n",
       "    .dataframe thead th {\n",
       "        text-align: right;\n",
       "    }\n",
       "</style>\n",
       "<table border=\"1\" class=\"dataframe\">\n",
       "  <thead>\n",
       "    <tr style=\"text-align: right;\">\n",
       "      <th></th>\n",
       "      <th>count</th>\n",
       "      <th>mean</th>\n",
       "      <th>std</th>\n",
       "      <th>min</th>\n",
       "      <th>25%</th>\n",
       "      <th>50%</th>\n",
       "      <th>75%</th>\n",
       "      <th>max</th>\n",
       "    </tr>\n",
       "    <tr>\n",
       "      <th>label</th>\n",
       "      <th></th>\n",
       "      <th></th>\n",
       "      <th></th>\n",
       "      <th></th>\n",
       "      <th></th>\n",
       "      <th></th>\n",
       "      <th></th>\n",
       "      <th></th>\n",
       "    </tr>\n",
       "  </thead>\n",
       "  <tbody>\n",
       "    <tr>\n",
       "      <th>0</th>\n",
       "      <td>100000.0</td>\n",
       "      <td>47.393712</td>\n",
       "      <td>12.046555</td>\n",
       "      <td>26.58</td>\n",
       "      <td>41.36</td>\n",
       "      <td>46.53</td>\n",
       "      <td>51.70</td>\n",
       "      <td>104.87</td>\n",
       "    </tr>\n",
       "    <tr>\n",
       "      <th>1</th>\n",
       "      <td>100000.0</td>\n",
       "      <td>104.223542</td>\n",
       "      <td>17.264494</td>\n",
       "      <td>62.04</td>\n",
       "      <td>91.76</td>\n",
       "      <td>104.87</td>\n",
       "      <td>117.98</td>\n",
       "      <td>131.09</td>\n",
       "    </tr>\n",
       "  </tbody>\n",
       "</table>\n",
       "</div>"
      ]
     },
     "execution_count": 9,
     "metadata": {},
     "output_type": "execute_result"
    }
   ],
   "execution_count": 9
  },
  {
   "cell_type": "code",
   "id": "d8df39ae",
   "metadata": {
    "ExecuteTime": {
     "end_time": "2025-07-11T21:32:56.375336Z",
     "start_time": "2025-07-11T21:32:46.944839Z"
    }
   },
   "source": [
    "from sklearn.feature_extraction.text import TfidfVectorizer\n",
    "\n",
    "vectorizer = TfidfVectorizer(analyzer=\"char\", ngram_range=(2, 5), max_features=5000) # \"char\" -> character n-grams, \"ngram_range=(2, 5)\" -> consider 2-grams to 5-grams, 5000 features max -> limit vocabulary size\n",
    "X = vectorizer.fit_transform(df[\"password\"])\n",
    "X.shape\n",
    "\n",
    "# Show sample TF-IDF vector\n",
    "import pandas as pd\n",
    "# Show top 10 features for the first password\n",
    "pd.DataFrame(X[0].toarray(), columns=vectorizer.get_feature_names_out()).T.sort_values(by=0, ascending=False).head(10)\n"
   ],
   "outputs": [
    {
     "data": {
      "text/plain": [
       "            0\n",
       "yla  0.389728\n",
       "rry  0.381513\n",
       "arr  0.355858\n",
       "har  0.341814\n",
       "aw   0.289822\n",
       "yl   0.277967\n",
       "rr   0.275475\n",
       "ry   0.273932\n",
       "ha   0.231535\n",
       "la   0.224702"
      ],
      "text/html": [
       "<div>\n",
       "<style scoped>\n",
       "    .dataframe tbody tr th:only-of-type {\n",
       "        vertical-align: middle;\n",
       "    }\n",
       "\n",
       "    .dataframe tbody tr th {\n",
       "        vertical-align: top;\n",
       "    }\n",
       "\n",
       "    .dataframe thead th {\n",
       "        text-align: right;\n",
       "    }\n",
       "</style>\n",
       "<table border=\"1\" class=\"dataframe\">\n",
       "  <thead>\n",
       "    <tr style=\"text-align: right;\">\n",
       "      <th></th>\n",
       "      <th>0</th>\n",
       "    </tr>\n",
       "  </thead>\n",
       "  <tbody>\n",
       "    <tr>\n",
       "      <th>yla</th>\n",
       "      <td>0.389728</td>\n",
       "    </tr>\n",
       "    <tr>\n",
       "      <th>rry</th>\n",
       "      <td>0.381513</td>\n",
       "    </tr>\n",
       "    <tr>\n",
       "      <th>arr</th>\n",
       "      <td>0.355858</td>\n",
       "    </tr>\n",
       "    <tr>\n",
       "      <th>har</th>\n",
       "      <td>0.341814</td>\n",
       "    </tr>\n",
       "    <tr>\n",
       "      <th>aw</th>\n",
       "      <td>0.289822</td>\n",
       "    </tr>\n",
       "    <tr>\n",
       "      <th>yl</th>\n",
       "      <td>0.277967</td>\n",
       "    </tr>\n",
       "    <tr>\n",
       "      <th>rr</th>\n",
       "      <td>0.275475</td>\n",
       "    </tr>\n",
       "    <tr>\n",
       "      <th>ry</th>\n",
       "      <td>0.273932</td>\n",
       "    </tr>\n",
       "    <tr>\n",
       "      <th>ha</th>\n",
       "      <td>0.231535</td>\n",
       "    </tr>\n",
       "    <tr>\n",
       "      <th>la</th>\n",
       "      <td>0.224702</td>\n",
       "    </tr>\n",
       "  </tbody>\n",
       "</table>\n",
       "</div>"
      ]
     },
     "execution_count": 10,
     "metadata": {},
     "output_type": "execute_result"
    }
   ],
   "execution_count": 10
  },
  {
   "cell_type": "code",
   "id": "a3136baa",
   "metadata": {
    "ExecuteTime": {
     "end_time": "2025-07-11T21:35:55.235556Z",
     "start_time": "2025-07-11T21:35:54.771481Z"
    }
   },
   "source": [
    "from sklearn.preprocessing import StandardScaler\n",
    "import scipy.sparse\n",
    "from src.utils import calc_entropy\n",
    "\n",
    "# Calcular longitud y entropía de las contraseñas\n",
    "df[\"length\"] = df[\"password\"].apply(len)\n",
    "df[\"entropy\"] = df[\"password\"].apply(calc_entropy)\n",
    "\n",
    "# Concatenate TF-IDF features with length and entropy\n",
    "extra = df[[\"length\", \"entropy\"]].values\n",
    "scaler = StandardScaler()\n",
    "extra_scaled = scaler.fit_transform(extra) # Standardize length and entropy features\n",
    "\n",
    "X_final = scipy.sparse.hstack([X, extra_scaled]) # Combine TF-IDF with length and entropy features\n",
    "y = df[\"label\"]\n"
   ],
   "outputs": [],
   "execution_count": 15
  },
  {
   "cell_type": "code",
   "id": "f596c1f2",
   "metadata": {
    "ExecuteTime": {
     "end_time": "2025-07-11T21:33:24.526067Z",
     "start_time": "2025-07-11T21:33:24.035245Z"
    }
   },
   "source": [
    "from sklearn.linear_model import SGDClassifier\n",
    "from sklearn.model_selection import train_test_split\n",
    "from sklearn.metrics import classification_report\n",
    "\n",
    "# Split data into training and test sets\n",
    "X_train, X_test, y_train, y_test = train_test_split(X_final, y, test_size=0.2, random_state=42)\n",
    "\n",
    "# Train model using SGDClassifier with log loss\n",
    "model = SGDClassifier(loss=\"log_loss\", random_state=42)\n",
    "model.fit(X_train, y_train)\n",
    "\n",
    "# Evaluate model\n",
    "y_pred = model.predict(X_test)\n",
    "print(classification_report(y_test, y_pred))\n"
   ],
   "outputs": [
    {
     "name": "stdout",
     "output_type": "stream",
     "text": [
      "              precision    recall  f1-score   support\n",
      "\n",
      "           0       0.99      0.99      0.99     19993\n",
      "           1       0.99      0.99      0.99     20007\n",
      "\n",
      "    accuracy                           0.99     40000\n",
      "   macro avg       0.99      0.99      0.99     40000\n",
      "weighted avg       0.99      0.99      0.99     40000\n",
      "\n"
     ]
    }
   ],
   "execution_count": 12
  },
  {
   "cell_type": "code",
   "id": "3bc41a2f",
   "metadata": {
    "ExecuteTime": {
     "end_time": "2025-07-11T21:33:29.174003Z",
     "start_time": "2025-07-11T21:33:29.156782Z"
    }
   },
   "source": [
    "df_test = df.iloc[y_test.index]\n",
    "df_test = df_test.copy()\n",
    "df_test[\"pred\"] = y_pred\n",
    "errors = df_test[df_test[\"label\"] != df_test[\"pred\"]]\n",
    "errors.sample(15)\n"
   ],
   "outputs": [
    {
     "data": {
      "text/plain": [
       "                password  label  length  entropy  pred\n",
       "40055       Lukas-Kato05      0      12    78.66     1\n",
       "1749      mcds414-eta540      0      14    85.22     1\n",
       "49484     greenspider.10      0      14    85.22     1\n",
       "72888   315black-angelme      0      16    97.40     1\n",
       "99984     likkle-star-lu      0      14    82.01     1\n",
       "32980     sofiajan3007**      0      14    85.22     1\n",
       "195040      bPWUARMakwFY      1      12    68.41     0\n",
       "20888    -v[86Imujiyddyo      0      15    98.32     1\n",
       "41259     iyd86'[u0b'qot      0      14    85.22     1\n",
       "186787      J2DVAsp4HU7k      1      12    71.45     0\n",
       "187095      9SGC8aNQ6r8E      1      12    71.45     0\n",
       "164218      HoNhjHNSRC1m      1      12    71.45     0\n",
       "79611      hyubh_lopez_2      0      13    79.14     1\n",
       "71959   2PerrosEstrellas      0      16    95.27     1\n",
       "19591      skata-playa36      0      13    79.14     1"
      ],
      "text/html": [
       "<div>\n",
       "<style scoped>\n",
       "    .dataframe tbody tr th:only-of-type {\n",
       "        vertical-align: middle;\n",
       "    }\n",
       "\n",
       "    .dataframe tbody tr th {\n",
       "        vertical-align: top;\n",
       "    }\n",
       "\n",
       "    .dataframe thead th {\n",
       "        text-align: right;\n",
       "    }\n",
       "</style>\n",
       "<table border=\"1\" class=\"dataframe\">\n",
       "  <thead>\n",
       "    <tr style=\"text-align: right;\">\n",
       "      <th></th>\n",
       "      <th>password</th>\n",
       "      <th>label</th>\n",
       "      <th>length</th>\n",
       "      <th>entropy</th>\n",
       "      <th>pred</th>\n",
       "    </tr>\n",
       "  </thead>\n",
       "  <tbody>\n",
       "    <tr>\n",
       "      <th>40055</th>\n",
       "      <td>Lukas-Kato05</td>\n",
       "      <td>0</td>\n",
       "      <td>12</td>\n",
       "      <td>78.66</td>\n",
       "      <td>1</td>\n",
       "    </tr>\n",
       "    <tr>\n",
       "      <th>1749</th>\n",
       "      <td>mcds414-eta540</td>\n",
       "      <td>0</td>\n",
       "      <td>14</td>\n",
       "      <td>85.22</td>\n",
       "      <td>1</td>\n",
       "    </tr>\n",
       "    <tr>\n",
       "      <th>49484</th>\n",
       "      <td>greenspider.10</td>\n",
       "      <td>0</td>\n",
       "      <td>14</td>\n",
       "      <td>85.22</td>\n",
       "      <td>1</td>\n",
       "    </tr>\n",
       "    <tr>\n",
       "      <th>72888</th>\n",
       "      <td>315black-angelme</td>\n",
       "      <td>0</td>\n",
       "      <td>16</td>\n",
       "      <td>97.40</td>\n",
       "      <td>1</td>\n",
       "    </tr>\n",
       "    <tr>\n",
       "      <th>99984</th>\n",
       "      <td>likkle-star-lu</td>\n",
       "      <td>0</td>\n",
       "      <td>14</td>\n",
       "      <td>82.01</td>\n",
       "      <td>1</td>\n",
       "    </tr>\n",
       "    <tr>\n",
       "      <th>32980</th>\n",
       "      <td>sofiajan3007**</td>\n",
       "      <td>0</td>\n",
       "      <td>14</td>\n",
       "      <td>85.22</td>\n",
       "      <td>1</td>\n",
       "    </tr>\n",
       "    <tr>\n",
       "      <th>195040</th>\n",
       "      <td>bPWUARMakwFY</td>\n",
       "      <td>1</td>\n",
       "      <td>12</td>\n",
       "      <td>68.41</td>\n",
       "      <td>0</td>\n",
       "    </tr>\n",
       "    <tr>\n",
       "      <th>20888</th>\n",
       "      <td>-v[86Imujiyddyo</td>\n",
       "      <td>0</td>\n",
       "      <td>15</td>\n",
       "      <td>98.32</td>\n",
       "      <td>1</td>\n",
       "    </tr>\n",
       "    <tr>\n",
       "      <th>41259</th>\n",
       "      <td>iyd86'[u0b'qot</td>\n",
       "      <td>0</td>\n",
       "      <td>14</td>\n",
       "      <td>85.22</td>\n",
       "      <td>1</td>\n",
       "    </tr>\n",
       "    <tr>\n",
       "      <th>186787</th>\n",
       "      <td>J2DVAsp4HU7k</td>\n",
       "      <td>1</td>\n",
       "      <td>12</td>\n",
       "      <td>71.45</td>\n",
       "      <td>0</td>\n",
       "    </tr>\n",
       "    <tr>\n",
       "      <th>187095</th>\n",
       "      <td>9SGC8aNQ6r8E</td>\n",
       "      <td>1</td>\n",
       "      <td>12</td>\n",
       "      <td>71.45</td>\n",
       "      <td>0</td>\n",
       "    </tr>\n",
       "    <tr>\n",
       "      <th>164218</th>\n",
       "      <td>HoNhjHNSRC1m</td>\n",
       "      <td>1</td>\n",
       "      <td>12</td>\n",
       "      <td>71.45</td>\n",
       "      <td>0</td>\n",
       "    </tr>\n",
       "    <tr>\n",
       "      <th>79611</th>\n",
       "      <td>hyubh_lopez_2</td>\n",
       "      <td>0</td>\n",
       "      <td>13</td>\n",
       "      <td>79.14</td>\n",
       "      <td>1</td>\n",
       "    </tr>\n",
       "    <tr>\n",
       "      <th>71959</th>\n",
       "      <td>2PerrosEstrellas</td>\n",
       "      <td>0</td>\n",
       "      <td>16</td>\n",
       "      <td>95.27</td>\n",
       "      <td>1</td>\n",
       "    </tr>\n",
       "    <tr>\n",
       "      <th>19591</th>\n",
       "      <td>skata-playa36</td>\n",
       "      <td>0</td>\n",
       "      <td>13</td>\n",
       "      <td>79.14</td>\n",
       "      <td>1</td>\n",
       "    </tr>\n",
       "  </tbody>\n",
       "</table>\n",
       "</div>"
      ]
     },
     "execution_count": 13,
     "metadata": {},
     "output_type": "execute_result"
    }
   ],
   "execution_count": 13
  },
  {
   "cell_type": "markdown",
   "id": "3874f826",
   "metadata": {},
   "source": [
    "\n",
    "### Conclusions\n",
    "\n",
    "✅ Including entropy and length improved model performance slightly.\n",
    "\n",
    "❌ TF-IDF alone struggles with passwords like \"qwerty123\" or \"abcabc\" — common patterns that aren't always caught by naive rule-based systems."
   ]
  }
 ],
 "metadata": {
  "kernelspec": {
   "display_name": "Python (passwords)",
   "language": "python",
   "name": "passwords"
  },
  "language_info": {
   "codemirror_mode": {
    "name": "ipython",
    "version": 3
   },
   "file_extension": ".py",
   "mimetype": "text/x-python",
   "name": "python",
   "nbconvert_exporter": "python",
   "pygments_lexer": "ipython3",
   "version": "3.10.18"
  }
 },
 "nbformat": 4,
 "nbformat_minor": 5
}
